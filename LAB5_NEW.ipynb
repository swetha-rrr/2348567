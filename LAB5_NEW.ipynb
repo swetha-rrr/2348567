{
  "nbformat": 4,
  "nbformat_minor": 0,
  "metadata": {
    "colab": {
      "provenance": [],
      "authorship_tag": "ABX9TyNIxzQlGHw4yvevD+r3QBDu",
      "include_colab_link": true
    },
    "kernelspec": {
      "name": "python3",
      "display_name": "Python 3"
    },
    "language_info": {
      "name": "python"
    }
  },
  "cells": [
    {
      "cell_type": "markdown",
      "metadata": {
        "id": "view-in-github",
        "colab_type": "text"
      },
      "source": [
        "<a href=\"https://colab.research.google.com/github/swetha-rrr/2348567/blob/main/LAB5_NEW.ipynb\" target=\"_parent\"><img src=\"https://colab.research.google.com/assets/colab-badge.svg\" alt=\"Open In Colab\"/></a>"
      ]
    },
    {
      "cell_type": "code",
      "execution_count": null,
      "metadata": {
        "id": "CZEtMaf8WOWB"
      },
      "outputs": [],
      "source": [
        "import pandas as pd\n",
        "import numpy as np\n",
        "import matplotlib.pyplot as plt\n",
        "import time\n",
        "import threading\n",
        "import warnings\n",
        "warnings.filterwarnings(\"ignore\")\n",
        "from mlxtend.frequent_patterns import apriori\n",
        "from mlxtend.frequent_patterns import fpgrowth\n",
        "import re\n",
        "from nltk.corpus import stopwords\n",
        "from nltk.stem.porter import PorterStemmer\n",
        "from sklearn.feature_extraction.text import TfidfVectorizer\n",
        "from sklearn.model_selection import train_test_split\n",
        "from sklearn.linear_model import LogisticRegression\n",
        "from sklearn.metrics import accuracy_score"
      ]
    },
    {
      "cell_type": "code",
      "source": [
        "data=pd.read_csv('/content/WA_Fn-UseC_-Telco-Customer-Churn.csv')\n",
        "data.head()\n",
        "\n"
      ],
      "metadata": {
        "colab": {
          "base_uri": "https://localhost:8080/",
          "height": 377
        },
        "id": "AhZAHdZLWbRL",
        "outputId": "01f968dd-f2b2-4ea5-9e28-25d55c3d5616"
      },
      "execution_count": null,
      "outputs": [
        {
          "output_type": "stream",
          "name": "stderr",
          "text": [
            "/usr/local/lib/python3.10/dist-packages/ipykernel/ipkernel.py:283: DeprecationWarning: `should_run_async` will not call `transform_cell` automatically in the future. Please pass the result to `transformed_cell` argument and any exception that happen during thetransform in `preprocessing_exc_tuple` in IPython 7.17 and above.\n",
            "  and should_run_async(code)\n"
          ]
        },
        {
          "output_type": "execute_result",
          "data": {
            "text/plain": [
              "   customerID  gender  SeniorCitizen Partner Dependents  tenure PhoneService  \\\n",
              "0  7590-VHVEG  Female              0     Yes         No       1           No   \n",
              "1  5575-GNVDE    Male              0      No         No      34          Yes   \n",
              "2  3668-QPYBK    Male              0      No         No       2          Yes   \n",
              "3  7795-CFOCW    Male              0      No         No      45           No   \n",
              "4  9237-HQITU  Female              0      No         No       2          Yes   \n",
              "\n",
              "      MultipleLines InternetService OnlineSecurity  ... DeviceProtection  \\\n",
              "0  No phone service             DSL             No  ...               No   \n",
              "1                No             DSL            Yes  ...              Yes   \n",
              "2                No             DSL            Yes  ...               No   \n",
              "3  No phone service             DSL            Yes  ...              Yes   \n",
              "4                No     Fiber optic             No  ...               No   \n",
              "\n",
              "  TechSupport StreamingTV StreamingMovies        Contract PaperlessBilling  \\\n",
              "0          No          No              No  Month-to-month              Yes   \n",
              "1          No          No              No        One year               No   \n",
              "2          No          No              No  Month-to-month              Yes   \n",
              "3         Yes          No              No        One year               No   \n",
              "4          No          No              No  Month-to-month              Yes   \n",
              "\n",
              "               PaymentMethod MonthlyCharges  TotalCharges Churn  \n",
              "0           Electronic check          29.85         29.85    No  \n",
              "1               Mailed check          56.95        1889.5    No  \n",
              "2               Mailed check          53.85        108.15   Yes  \n",
              "3  Bank transfer (automatic)          42.30       1840.75    No  \n",
              "4           Electronic check          70.70        151.65   Yes  \n",
              "\n",
              "[5 rows x 21 columns]"
            ],
            "text/html": [
              "\n",
              "  <div id=\"df-b4472097-b12a-46d9-973a-e6809f906464\" class=\"colab-df-container\">\n",
              "    <div>\n",
              "<style scoped>\n",
              "    .dataframe tbody tr th:only-of-type {\n",
              "        vertical-align: middle;\n",
              "    }\n",
              "\n",
              "    .dataframe tbody tr th {\n",
              "        vertical-align: top;\n",
              "    }\n",
              "\n",
              "    .dataframe thead th {\n",
              "        text-align: right;\n",
              "    }\n",
              "</style>\n",
              "<table border=\"1\" class=\"dataframe\">\n",
              "  <thead>\n",
              "    <tr style=\"text-align: right;\">\n",
              "      <th></th>\n",
              "      <th>customerID</th>\n",
              "      <th>gender</th>\n",
              "      <th>SeniorCitizen</th>\n",
              "      <th>Partner</th>\n",
              "      <th>Dependents</th>\n",
              "      <th>tenure</th>\n",
              "      <th>PhoneService</th>\n",
              "      <th>MultipleLines</th>\n",
              "      <th>InternetService</th>\n",
              "      <th>OnlineSecurity</th>\n",
              "      <th>...</th>\n",
              "      <th>DeviceProtection</th>\n",
              "      <th>TechSupport</th>\n",
              "      <th>StreamingTV</th>\n",
              "      <th>StreamingMovies</th>\n",
              "      <th>Contract</th>\n",
              "      <th>PaperlessBilling</th>\n",
              "      <th>PaymentMethod</th>\n",
              "      <th>MonthlyCharges</th>\n",
              "      <th>TotalCharges</th>\n",
              "      <th>Churn</th>\n",
              "    </tr>\n",
              "  </thead>\n",
              "  <tbody>\n",
              "    <tr>\n",
              "      <th>0</th>\n",
              "      <td>7590-VHVEG</td>\n",
              "      <td>Female</td>\n",
              "      <td>0</td>\n",
              "      <td>Yes</td>\n",
              "      <td>No</td>\n",
              "      <td>1</td>\n",
              "      <td>No</td>\n",
              "      <td>No phone service</td>\n",
              "      <td>DSL</td>\n",
              "      <td>No</td>\n",
              "      <td>...</td>\n",
              "      <td>No</td>\n",
              "      <td>No</td>\n",
              "      <td>No</td>\n",
              "      <td>No</td>\n",
              "      <td>Month-to-month</td>\n",
              "      <td>Yes</td>\n",
              "      <td>Electronic check</td>\n",
              "      <td>29.85</td>\n",
              "      <td>29.85</td>\n",
              "      <td>No</td>\n",
              "    </tr>\n",
              "    <tr>\n",
              "      <th>1</th>\n",
              "      <td>5575-GNVDE</td>\n",
              "      <td>Male</td>\n",
              "      <td>0</td>\n",
              "      <td>No</td>\n",
              "      <td>No</td>\n",
              "      <td>34</td>\n",
              "      <td>Yes</td>\n",
              "      <td>No</td>\n",
              "      <td>DSL</td>\n",
              "      <td>Yes</td>\n",
              "      <td>...</td>\n",
              "      <td>Yes</td>\n",
              "      <td>No</td>\n",
              "      <td>No</td>\n",
              "      <td>No</td>\n",
              "      <td>One year</td>\n",
              "      <td>No</td>\n",
              "      <td>Mailed check</td>\n",
              "      <td>56.95</td>\n",
              "      <td>1889.5</td>\n",
              "      <td>No</td>\n",
              "    </tr>\n",
              "    <tr>\n",
              "      <th>2</th>\n",
              "      <td>3668-QPYBK</td>\n",
              "      <td>Male</td>\n",
              "      <td>0</td>\n",
              "      <td>No</td>\n",
              "      <td>No</td>\n",
              "      <td>2</td>\n",
              "      <td>Yes</td>\n",
              "      <td>No</td>\n",
              "      <td>DSL</td>\n",
              "      <td>Yes</td>\n",
              "      <td>...</td>\n",
              "      <td>No</td>\n",
              "      <td>No</td>\n",
              "      <td>No</td>\n",
              "      <td>No</td>\n",
              "      <td>Month-to-month</td>\n",
              "      <td>Yes</td>\n",
              "      <td>Mailed check</td>\n",
              "      <td>53.85</td>\n",
              "      <td>108.15</td>\n",
              "      <td>Yes</td>\n",
              "    </tr>\n",
              "    <tr>\n",
              "      <th>3</th>\n",
              "      <td>7795-CFOCW</td>\n",
              "      <td>Male</td>\n",
              "      <td>0</td>\n",
              "      <td>No</td>\n",
              "      <td>No</td>\n",
              "      <td>45</td>\n",
              "      <td>No</td>\n",
              "      <td>No phone service</td>\n",
              "      <td>DSL</td>\n",
              "      <td>Yes</td>\n",
              "      <td>...</td>\n",
              "      <td>Yes</td>\n",
              "      <td>Yes</td>\n",
              "      <td>No</td>\n",
              "      <td>No</td>\n",
              "      <td>One year</td>\n",
              "      <td>No</td>\n",
              "      <td>Bank transfer (automatic)</td>\n",
              "      <td>42.30</td>\n",
              "      <td>1840.75</td>\n",
              "      <td>No</td>\n",
              "    </tr>\n",
              "    <tr>\n",
              "      <th>4</th>\n",
              "      <td>9237-HQITU</td>\n",
              "      <td>Female</td>\n",
              "      <td>0</td>\n",
              "      <td>No</td>\n",
              "      <td>No</td>\n",
              "      <td>2</td>\n",
              "      <td>Yes</td>\n",
              "      <td>No</td>\n",
              "      <td>Fiber optic</td>\n",
              "      <td>No</td>\n",
              "      <td>...</td>\n",
              "      <td>No</td>\n",
              "      <td>No</td>\n",
              "      <td>No</td>\n",
              "      <td>No</td>\n",
              "      <td>Month-to-month</td>\n",
              "      <td>Yes</td>\n",
              "      <td>Electronic check</td>\n",
              "      <td>70.70</td>\n",
              "      <td>151.65</td>\n",
              "      <td>Yes</td>\n",
              "    </tr>\n",
              "  </tbody>\n",
              "</table>\n",
              "<p>5 rows × 21 columns</p>\n",
              "</div>\n",
              "    <div class=\"colab-df-buttons\">\n",
              "\n",
              "  <div class=\"colab-df-container\">\n",
              "    <button class=\"colab-df-convert\" onclick=\"convertToInteractive('df-b4472097-b12a-46d9-973a-e6809f906464')\"\n",
              "            title=\"Convert this dataframe to an interactive table.\"\n",
              "            style=\"display:none;\">\n",
              "\n",
              "  <svg xmlns=\"http://www.w3.org/2000/svg\" height=\"24px\" viewBox=\"0 -960 960 960\">\n",
              "    <path d=\"M120-120v-720h720v720H120Zm60-500h600v-160H180v160Zm220 220h160v-160H400v160Zm0 220h160v-160H400v160ZM180-400h160v-160H180v160Zm440 0h160v-160H620v160ZM180-180h160v-160H180v160Zm440 0h160v-160H620v160Z\"/>\n",
              "  </svg>\n",
              "    </button>\n",
              "\n",
              "  <style>\n",
              "    .colab-df-container {\n",
              "      display:flex;\n",
              "      gap: 12px;\n",
              "    }\n",
              "\n",
              "    .colab-df-convert {\n",
              "      background-color: #E8F0FE;\n",
              "      border: none;\n",
              "      border-radius: 50%;\n",
              "      cursor: pointer;\n",
              "      display: none;\n",
              "      fill: #1967D2;\n",
              "      height: 32px;\n",
              "      padding: 0 0 0 0;\n",
              "      width: 32px;\n",
              "    }\n",
              "\n",
              "    .colab-df-convert:hover {\n",
              "      background-color: #E2EBFA;\n",
              "      box-shadow: 0px 1px 2px rgba(60, 64, 67, 0.3), 0px 1px 3px 1px rgba(60, 64, 67, 0.15);\n",
              "      fill: #174EA6;\n",
              "    }\n",
              "\n",
              "    .colab-df-buttons div {\n",
              "      margin-bottom: 4px;\n",
              "    }\n",
              "\n",
              "    [theme=dark] .colab-df-convert {\n",
              "      background-color: #3B4455;\n",
              "      fill: #D2E3FC;\n",
              "    }\n",
              "\n",
              "    [theme=dark] .colab-df-convert:hover {\n",
              "      background-color: #434B5C;\n",
              "      box-shadow: 0px 1px 3px 1px rgba(0, 0, 0, 0.15);\n",
              "      filter: drop-shadow(0px 1px 2px rgba(0, 0, 0, 0.3));\n",
              "      fill: #FFFFFF;\n",
              "    }\n",
              "  </style>\n",
              "\n",
              "    <script>\n",
              "      const buttonEl =\n",
              "        document.querySelector('#df-b4472097-b12a-46d9-973a-e6809f906464 button.colab-df-convert');\n",
              "      buttonEl.style.display =\n",
              "        google.colab.kernel.accessAllowed ? 'block' : 'none';\n",
              "\n",
              "      async function convertToInteractive(key) {\n",
              "        const element = document.querySelector('#df-b4472097-b12a-46d9-973a-e6809f906464');\n",
              "        const dataTable =\n",
              "          await google.colab.kernel.invokeFunction('convertToInteractive',\n",
              "                                                    [key], {});\n",
              "        if (!dataTable) return;\n",
              "\n",
              "        const docLinkHtml = 'Like what you see? Visit the ' +\n",
              "          '<a target=\"_blank\" href=https://colab.research.google.com/notebooks/data_table.ipynb>data table notebook</a>'\n",
              "          + ' to learn more about interactive tables.';\n",
              "        element.innerHTML = '';\n",
              "        dataTable['output_type'] = 'display_data';\n",
              "        await google.colab.output.renderOutput(dataTable, element);\n",
              "        const docLink = document.createElement('div');\n",
              "        docLink.innerHTML = docLinkHtml;\n",
              "        element.appendChild(docLink);\n",
              "      }\n",
              "    </script>\n",
              "  </div>\n",
              "\n",
              "\n",
              "<div id=\"df-22ac137d-560f-4101-a616-f0420774a375\">\n",
              "  <button class=\"colab-df-quickchart\" onclick=\"quickchart('df-22ac137d-560f-4101-a616-f0420774a375')\"\n",
              "            title=\"Suggest charts.\"\n",
              "            style=\"display:none;\">\n",
              "\n",
              "<svg xmlns=\"http://www.w3.org/2000/svg\" height=\"24px\"viewBox=\"0 0 24 24\"\n",
              "     width=\"24px\">\n",
              "    <g>\n",
              "        <path d=\"M19 3H5c-1.1 0-2 .9-2 2v14c0 1.1.9 2 2 2h14c1.1 0 2-.9 2-2V5c0-1.1-.9-2-2-2zM9 17H7v-7h2v7zm4 0h-2V7h2v10zm4 0h-2v-4h2v4z\"/>\n",
              "    </g>\n",
              "</svg>\n",
              "  </button>\n",
              "\n",
              "<style>\n",
              "  .colab-df-quickchart {\n",
              "      --bg-color: #E8F0FE;\n",
              "      --fill-color: #1967D2;\n",
              "      --hover-bg-color: #E2EBFA;\n",
              "      --hover-fill-color: #174EA6;\n",
              "      --disabled-fill-color: #AAA;\n",
              "      --disabled-bg-color: #DDD;\n",
              "  }\n",
              "\n",
              "  [theme=dark] .colab-df-quickchart {\n",
              "      --bg-color: #3B4455;\n",
              "      --fill-color: #D2E3FC;\n",
              "      --hover-bg-color: #434B5C;\n",
              "      --hover-fill-color: #FFFFFF;\n",
              "      --disabled-bg-color: #3B4455;\n",
              "      --disabled-fill-color: #666;\n",
              "  }\n",
              "\n",
              "  .colab-df-quickchart {\n",
              "    background-color: var(--bg-color);\n",
              "    border: none;\n",
              "    border-radius: 50%;\n",
              "    cursor: pointer;\n",
              "    display: none;\n",
              "    fill: var(--fill-color);\n",
              "    height: 32px;\n",
              "    padding: 0;\n",
              "    width: 32px;\n",
              "  }\n",
              "\n",
              "  .colab-df-quickchart:hover {\n",
              "    background-color: var(--hover-bg-color);\n",
              "    box-shadow: 0 1px 2px rgba(60, 64, 67, 0.3), 0 1px 3px 1px rgba(60, 64, 67, 0.15);\n",
              "    fill: var(--button-hover-fill-color);\n",
              "  }\n",
              "\n",
              "  .colab-df-quickchart-complete:disabled,\n",
              "  .colab-df-quickchart-complete:disabled:hover {\n",
              "    background-color: var(--disabled-bg-color);\n",
              "    fill: var(--disabled-fill-color);\n",
              "    box-shadow: none;\n",
              "  }\n",
              "\n",
              "  .colab-df-spinner {\n",
              "    border: 2px solid var(--fill-color);\n",
              "    border-color: transparent;\n",
              "    border-bottom-color: var(--fill-color);\n",
              "    animation:\n",
              "      spin 1s steps(1) infinite;\n",
              "  }\n",
              "\n",
              "  @keyframes spin {\n",
              "    0% {\n",
              "      border-color: transparent;\n",
              "      border-bottom-color: var(--fill-color);\n",
              "      border-left-color: var(--fill-color);\n",
              "    }\n",
              "    20% {\n",
              "      border-color: transparent;\n",
              "      border-left-color: var(--fill-color);\n",
              "      border-top-color: var(--fill-color);\n",
              "    }\n",
              "    30% {\n",
              "      border-color: transparent;\n",
              "      border-left-color: var(--fill-color);\n",
              "      border-top-color: var(--fill-color);\n",
              "      border-right-color: var(--fill-color);\n",
              "    }\n",
              "    40% {\n",
              "      border-color: transparent;\n",
              "      border-right-color: var(--fill-color);\n",
              "      border-top-color: var(--fill-color);\n",
              "    }\n",
              "    60% {\n",
              "      border-color: transparent;\n",
              "      border-right-color: var(--fill-color);\n",
              "    }\n",
              "    80% {\n",
              "      border-color: transparent;\n",
              "      border-right-color: var(--fill-color);\n",
              "      border-bottom-color: var(--fill-color);\n",
              "    }\n",
              "    90% {\n",
              "      border-color: transparent;\n",
              "      border-bottom-color: var(--fill-color);\n",
              "    }\n",
              "  }\n",
              "</style>\n",
              "\n",
              "  <script>\n",
              "    async function quickchart(key) {\n",
              "      const quickchartButtonEl =\n",
              "        document.querySelector('#' + key + ' button');\n",
              "      quickchartButtonEl.disabled = true;  // To prevent multiple clicks.\n",
              "      quickchartButtonEl.classList.add('colab-df-spinner');\n",
              "      try {\n",
              "        const charts = await google.colab.kernel.invokeFunction(\n",
              "            'suggestCharts', [key], {});\n",
              "      } catch (error) {\n",
              "        console.error('Error during call to suggestCharts:', error);\n",
              "      }\n",
              "      quickchartButtonEl.classList.remove('colab-df-spinner');\n",
              "      quickchartButtonEl.classList.add('colab-df-quickchart-complete');\n",
              "    }\n",
              "    (() => {\n",
              "      let quickchartButtonEl =\n",
              "        document.querySelector('#df-22ac137d-560f-4101-a616-f0420774a375 button');\n",
              "      quickchartButtonEl.style.display =\n",
              "        google.colab.kernel.accessAllowed ? 'block' : 'none';\n",
              "    })();\n",
              "  </script>\n",
              "</div>\n",
              "    </div>\n",
              "  </div>\n"
            ]
          },
          "metadata": {},
          "execution_count": 2
        }
      ]
    },
    {
      "cell_type": "code",
      "source": [
        "data.isnull().sum()\n"
      ],
      "metadata": {
        "colab": {
          "base_uri": "https://localhost:8080/"
        },
        "id": "1K4G5Cg0WbTS",
        "outputId": "871a7585-e282-4041-fbc5-e7f55a1b394d"
      },
      "execution_count": null,
      "outputs": [
        {
          "output_type": "stream",
          "name": "stderr",
          "text": [
            "/usr/local/lib/python3.10/dist-packages/ipykernel/ipkernel.py:283: DeprecationWarning: `should_run_async` will not call `transform_cell` automatically in the future. Please pass the result to `transformed_cell` argument and any exception that happen during thetransform in `preprocessing_exc_tuple` in IPython 7.17 and above.\n",
            "  and should_run_async(code)\n"
          ]
        },
        {
          "output_type": "execute_result",
          "data": {
            "text/plain": [
              "customerID          0\n",
              "gender              0\n",
              "SeniorCitizen       0\n",
              "Partner             0\n",
              "Dependents          0\n",
              "tenure              0\n",
              "PhoneService        0\n",
              "MultipleLines       0\n",
              "InternetService     0\n",
              "OnlineSecurity      0\n",
              "OnlineBackup        0\n",
              "DeviceProtection    0\n",
              "TechSupport         0\n",
              "StreamingTV         0\n",
              "StreamingMovies     0\n",
              "Contract            0\n",
              "PaperlessBilling    0\n",
              "PaymentMethod       0\n",
              "MonthlyCharges      0\n",
              "TotalCharges        0\n",
              "Churn               0\n",
              "dtype: int64"
            ]
          },
          "metadata": {},
          "execution_count": 3
        }
      ]
    },
    {
      "cell_type": "code",
      "source": [
        "from sklearn.preprocessing import LabelEncoder\n",
        "for col in data.columns[~data.columns.isin(['MonthlyCharges','Tenure'])]:\n",
        "  le=LabelEncoder()\n",
        "  data[col]=le.fit_transform(data[col])"
      ],
      "metadata": {
        "colab": {
          "base_uri": "https://localhost:8080/"
        },
        "id": "M7BzQWFJWbVj",
        "outputId": "2892ee42-7dbb-43fb-e9c0-68657884f9f6"
      },
      "execution_count": null,
      "outputs": [
        {
          "output_type": "stream",
          "name": "stderr",
          "text": [
            "/usr/local/lib/python3.10/dist-packages/ipykernel/ipkernel.py:283: DeprecationWarning: `should_run_async` will not call `transform_cell` automatically in the future. Please pass the result to `transformed_cell` argument and any exception that happen during thetransform in `preprocessing_exc_tuple` in IPython 7.17 and above.\n",
            "  and should_run_async(code)\n"
          ]
        }
      ]
    },
    {
      "cell_type": "code",
      "source": [
        "X = data.drop(columns=['Churn','customerID'], axis=1)\n",
        "Y = data['Churn']"
      ],
      "metadata": {
        "colab": {
          "base_uri": "https://localhost:8080/"
        },
        "id": "RUQsDFtMWbYA",
        "outputId": "92e6c7bd-0b61-4a73-af24-e8bc9d384427"
      },
      "execution_count": null,
      "outputs": [
        {
          "output_type": "stream",
          "name": "stderr",
          "text": [
            "/usr/local/lib/python3.10/dist-packages/ipykernel/ipkernel.py:283: DeprecationWarning: `should_run_async` will not call `transform_cell` automatically in the future. Please pass the result to `transformed_cell` argument and any exception that happen during thetransform in `preprocessing_exc_tuple` in IPython 7.17 and above.\n",
            "  and should_run_async(code)\n"
          ]
        }
      ]
    },
    {
      "cell_type": "code",
      "source": [
        "from sklearn.model_selection import train_test_split\n",
        "X_train, X_test, Y_train, Y_test = train_test_split(X, Y, test_size = 0.2, stratify=Y, random_state=2)\n",
        "\n"
      ],
      "metadata": {
        "colab": {
          "base_uri": "https://localhost:8080/"
        },
        "id": "DS_F1ePjWbbQ",
        "outputId": "3d50e260-1203-433f-ddc1-f1ddd01d2581"
      },
      "execution_count": null,
      "outputs": [
        {
          "output_type": "stream",
          "name": "stderr",
          "text": [
            "/usr/local/lib/python3.10/dist-packages/ipykernel/ipkernel.py:283: DeprecationWarning: `should_run_async` will not call `transform_cell` automatically in the future. Please pass the result to `transformed_cell` argument and any exception that happen during thetransform in `preprocessing_exc_tuple` in IPython 7.17 and above.\n",
            "  and should_run_async(code)\n"
          ]
        }
      ]
    },
    {
      "cell_type": "code",
      "source": [
        "from sklearn.linear_model import LogisticRegression\n",
        "model = LogisticRegression()\n",
        "model.fit(X_train, Y_train)"
      ],
      "metadata": {
        "colab": {
          "base_uri": "https://localhost:8080/",
          "height": 129
        },
        "id": "QyP-ZhbQXXXb",
        "outputId": "202d388e-2f82-447f-b3f0-361531f7c112"
      },
      "execution_count": null,
      "outputs": [
        {
          "output_type": "stream",
          "name": "stderr",
          "text": [
            "/usr/local/lib/python3.10/dist-packages/ipykernel/ipkernel.py:283: DeprecationWarning: `should_run_async` will not call `transform_cell` automatically in the future. Please pass the result to `transformed_cell` argument and any exception that happen during thetransform in `preprocessing_exc_tuple` in IPython 7.17 and above.\n",
            "  and should_run_async(code)\n"
          ]
        },
        {
          "output_type": "execute_result",
          "data": {
            "text/plain": [
              "LogisticRegression()"
            ],
            "text/html": [
              "<style>#sk-container-id-1 {color: black;background-color: white;}#sk-container-id-1 pre{padding: 0;}#sk-container-id-1 div.sk-toggleable {background-color: white;}#sk-container-id-1 label.sk-toggleable__label {cursor: pointer;display: block;width: 100%;margin-bottom: 0;padding: 0.3em;box-sizing: border-box;text-align: center;}#sk-container-id-1 label.sk-toggleable__label-arrow:before {content: \"▸\";float: left;margin-right: 0.25em;color: #696969;}#sk-container-id-1 label.sk-toggleable__label-arrow:hover:before {color: black;}#sk-container-id-1 div.sk-estimator:hover label.sk-toggleable__label-arrow:before {color: black;}#sk-container-id-1 div.sk-toggleable__content {max-height: 0;max-width: 0;overflow: hidden;text-align: left;background-color: #f0f8ff;}#sk-container-id-1 div.sk-toggleable__content pre {margin: 0.2em;color: black;border-radius: 0.25em;background-color: #f0f8ff;}#sk-container-id-1 input.sk-toggleable__control:checked~div.sk-toggleable__content {max-height: 200px;max-width: 100%;overflow: auto;}#sk-container-id-1 input.sk-toggleable__control:checked~label.sk-toggleable__label-arrow:before {content: \"▾\";}#sk-container-id-1 div.sk-estimator input.sk-toggleable__control:checked~label.sk-toggleable__label {background-color: #d4ebff;}#sk-container-id-1 div.sk-label input.sk-toggleable__control:checked~label.sk-toggleable__label {background-color: #d4ebff;}#sk-container-id-1 input.sk-hidden--visually {border: 0;clip: rect(1px 1px 1px 1px);clip: rect(1px, 1px, 1px, 1px);height: 1px;margin: -1px;overflow: hidden;padding: 0;position: absolute;width: 1px;}#sk-container-id-1 div.sk-estimator {font-family: monospace;background-color: #f0f8ff;border: 1px dotted black;border-radius: 0.25em;box-sizing: border-box;margin-bottom: 0.5em;}#sk-container-id-1 div.sk-estimator:hover {background-color: #d4ebff;}#sk-container-id-1 div.sk-parallel-item::after {content: \"\";width: 100%;border-bottom: 1px solid gray;flex-grow: 1;}#sk-container-id-1 div.sk-label:hover label.sk-toggleable__label {background-color: #d4ebff;}#sk-container-id-1 div.sk-serial::before {content: \"\";position: absolute;border-left: 1px solid gray;box-sizing: border-box;top: 0;bottom: 0;left: 50%;z-index: 0;}#sk-container-id-1 div.sk-serial {display: flex;flex-direction: column;align-items: center;background-color: white;padding-right: 0.2em;padding-left: 0.2em;position: relative;}#sk-container-id-1 div.sk-item {position: relative;z-index: 1;}#sk-container-id-1 div.sk-parallel {display: flex;align-items: stretch;justify-content: center;background-color: white;position: relative;}#sk-container-id-1 div.sk-item::before, #sk-container-id-1 div.sk-parallel-item::before {content: \"\";position: absolute;border-left: 1px solid gray;box-sizing: border-box;top: 0;bottom: 0;left: 50%;z-index: -1;}#sk-container-id-1 div.sk-parallel-item {display: flex;flex-direction: column;z-index: 1;position: relative;background-color: white;}#sk-container-id-1 div.sk-parallel-item:first-child::after {align-self: flex-end;width: 50%;}#sk-container-id-1 div.sk-parallel-item:last-child::after {align-self: flex-start;width: 50%;}#sk-container-id-1 div.sk-parallel-item:only-child::after {width: 0;}#sk-container-id-1 div.sk-dashed-wrapped {border: 1px dashed gray;margin: 0 0.4em 0.5em 0.4em;box-sizing: border-box;padding-bottom: 0.4em;background-color: white;}#sk-container-id-1 div.sk-label label {font-family: monospace;font-weight: bold;display: inline-block;line-height: 1.2em;}#sk-container-id-1 div.sk-label-container {text-align: center;}#sk-container-id-1 div.sk-container {/* jupyter's `normalize.less` sets `[hidden] { display: none; }` but bootstrap.min.css set `[hidden] { display: none !important; }` so we also need the `!important` here to be able to override the default hidden behavior on the sphinx rendered scikit-learn.org. See: https://github.com/scikit-learn/scikit-learn/issues/21755 */display: inline-block !important;position: relative;}#sk-container-id-1 div.sk-text-repr-fallback {display: none;}</style><div id=\"sk-container-id-1\" class=\"sk-top-container\"><div class=\"sk-text-repr-fallback\"><pre>LogisticRegression()</pre><b>In a Jupyter environment, please rerun this cell to show the HTML representation or trust the notebook. <br />On GitHub, the HTML representation is unable to render, please try loading this page with nbviewer.org.</b></div><div class=\"sk-container\" hidden><div class=\"sk-item\"><div class=\"sk-estimator sk-toggleable\"><input class=\"sk-toggleable__control sk-hidden--visually\" id=\"sk-estimator-id-1\" type=\"checkbox\" checked><label for=\"sk-estimator-id-1\" class=\"sk-toggleable__label sk-toggleable__label-arrow\">LogisticRegression</label><div class=\"sk-toggleable__content\"><pre>LogisticRegression()</pre></div></div></div></div></div>"
            ]
          },
          "metadata": {},
          "execution_count": 7
        }
      ]
    },
    {
      "cell_type": "code",
      "source": [
        "X_train_prediction = model.predict(X_train)\n",
        "training_data_accuracy = accuracy_score(X_train_prediction, Y_train)"
      ],
      "metadata": {
        "colab": {
          "base_uri": "https://localhost:8080/"
        },
        "id": "I76OPiXlXXkX",
        "outputId": "9be61fcf-13ce-44e2-9121-2f03184601d0"
      },
      "execution_count": null,
      "outputs": [
        {
          "output_type": "stream",
          "name": "stderr",
          "text": [
            "/usr/local/lib/python3.10/dist-packages/ipykernel/ipkernel.py:283: DeprecationWarning: `should_run_async` will not call `transform_cell` automatically in the future. Please pass the result to `transformed_cell` argument and any exception that happen during thetransform in `preprocessing_exc_tuple` in IPython 7.17 and above.\n",
            "  and should_run_async(code)\n"
          ]
        }
      ]
    },
    {
      "cell_type": "code",
      "source": [
        "print('Accuracy score of the training data : ', training_data_accuracy)"
      ],
      "metadata": {
        "colab": {
          "base_uri": "https://localhost:8080/"
        },
        "id": "J8vYns0oXXmW",
        "outputId": "41a23e86-3bde-4981-c268-607d30c4da42"
      },
      "execution_count": null,
      "outputs": [
        {
          "output_type": "stream",
          "name": "stdout",
          "text": [
            "Accuracy score of the training data :  0.8006744763933262\n"
          ]
        },
        {
          "output_type": "stream",
          "name": "stderr",
          "text": [
            "/usr/local/lib/python3.10/dist-packages/ipykernel/ipkernel.py:283: DeprecationWarning: `should_run_async` will not call `transform_cell` automatically in the future. Please pass the result to `transformed_cell` argument and any exception that happen during thetransform in `preprocessing_exc_tuple` in IPython 7.17 and above.\n",
            "  and should_run_async(code)\n"
          ]
        }
      ]
    },
    {
      "cell_type": "code",
      "source": [
        "from sklearn.metrics import accuracy_score, precision_score, recall_score, f1_score, roc_auc_score, cohen_kappa_score, matthews_corrcoef\n",
        "\n",
        "y_pred = model.predict(X_test)\n",
        "\n",
        "# Calculate evaluation metrics\n",
        "accuracy = accuracy_score(Y_test, y_pred)\n",
        "precision = precision_score(Y_test, y_pred)\n",
        "recall = recall_score(Y_test, y_pred)\n",
        "f1 = f1_score(Y_test, y_pred)\n",
        "roc_auc = roc_auc_score(Y_test, y_pred)\n",
        "kappa = cohen_kappa_score(Y_test, y_pred)\n",
        "mcc = matthews_corrcoef(Y_test, y_pred)\n",
        "\n",
        "# Print the metrics\n",
        "print(f\"Accuracy: {accuracy}\")\n",
        "print(f\"Precision: {precision}\")\n",
        "print(f\"Recall: {recall}\")\n",
        "print(f\"F1-Score: {f1}\")\n",
        "print(f\"ROC AUC: {roc_auc}\")\n",
        "print(f\"Cohen's Kappa: {kappa}\")\n",
        "print(f\"Matthews Correlation Coefficient: {mcc}\")\n"
      ],
      "metadata": {
        "colab": {
          "base_uri": "https://localhost:8080/"
        },
        "id": "xg94SHBMXXom",
        "outputId": "03b0cd86-673c-4b75-eed2-829c1ce279fa"
      },
      "execution_count": null,
      "outputs": [
        {
          "output_type": "stream",
          "name": "stdout",
          "text": [
            "Accuracy: 0.8019872249822569\n",
            "Precision: 0.6690391459074733\n",
            "Recall: 0.5026737967914439\n",
            "F1-Score: 0.5740458015267177\n",
            "ROC AUC: 0.7064093621638379\n",
            "Cohen's Kappa: 0.44842551006233977\n",
            "Matthews Correlation Coefficient: 0.45620249244200883\n"
          ]
        },
        {
          "output_type": "stream",
          "name": "stderr",
          "text": [
            "/usr/local/lib/python3.10/dist-packages/ipykernel/ipkernel.py:283: DeprecationWarning: `should_run_async` will not call `transform_cell` automatically in the future. Please pass the result to `transformed_cell` argument and any exception that happen during thetransform in `preprocessing_exc_tuple` in IPython 7.17 and above.\n",
            "  and should_run_async(code)\n"
          ]
        }
      ]
    },
    {
      "cell_type": "code",
      "source": [
        "import seaborn as sns\n",
        "import matplotlib.pyplot as plt\n",
        "from sklearn.metrics import confusion_matrix\n",
        "\n",
        "# Create a confusion matrix\n",
        "conf_matrix = confusion_matrix(Y_test, y_pred)\n",
        "\n",
        "# Plot confusion matrix\n",
        "sns.heatmap(conf_matrix, annot=True, cmap='Blues', fmt='g')\n",
        "plt.xlabel('Predicted')\n",
        "plt.ylabel('Actual')\n",
        "plt.title('Confusion Matrix')\n",
        "plt.show()\n"
      ],
      "metadata": {
        "colab": {
          "base_uri": "https://localhost:8080/",
          "height": 527
        },
        "id": "Ts5zYX4bXXq0",
        "outputId": "22e7e654-597b-4e1b-b334-ae2ef75642fd"
      },
      "execution_count": null,
      "outputs": [
        {
          "output_type": "stream",
          "name": "stderr",
          "text": [
            "/usr/local/lib/python3.10/dist-packages/ipykernel/ipkernel.py:283: DeprecationWarning: `should_run_async` will not call `transform_cell` automatically in the future. Please pass the result to `transformed_cell` argument and any exception that happen during thetransform in `preprocessing_exc_tuple` in IPython 7.17 and above.\n",
            "  and should_run_async(code)\n"
          ]
        },
        {
          "output_type": "display_data",
          "data": {
            "text/plain": [
              "<Figure size 640x480 with 2 Axes>"
            ],
            "image/png": "[encoded data removed]"
          },
          "metadata": {}
        }
      ]
    },
    {
      "cell_type": "code",
      "source": [
        "from sklearn.metrics import roc_curve\n",
        "\n",
        "# Get ROC curve values\n",
        "fpr, tpr, thresholds = roc_curve(Y_test, model.predict_proba(X_test)[:, 1])\n",
        "\n",
        "# Plot ROC curve\n",
        "plt.figure()\n",
        "plt.plot(fpr, tpr, color='darkorange', lw=2, label='ROC curve (area = %0.2f)' % roc_auc)\n",
        "plt.plot([0, 1], [0, 1], color='navy', lw=2, linestyle='--')\n",
        "plt.xlim([0.0, 1.0])\n",
        "plt.ylim([0.0, 1.05])\n",
        "plt.xlabel('False Positive Rate')\n",
        "plt.ylabel('True Positive Rate')\n",
        "plt.title('Receiver Operating Characteristic (ROC)')\n",
        "plt.legend(loc='lower right')\n",
        "plt.show()"
      ],
      "metadata": {
        "colab": {
          "base_uri": "https://localhost:8080/",
          "height": 527
        },
        "id": "skuULxhcXXuX",
        "outputId": "f4475b1e-7964-464c-e05a-cf02f214fe99"
      },
      "execution_count": null,
      "outputs": [
        {
          "output_type": "stream",
          "name": "stderr",
          "text": [
            "/usr/local/lib/python3.10/dist-packages/ipykernel/ipkernel.py:283: DeprecationWarning: `should_run_async` will not call `transform_cell` automatically in the future. Please pass the result to `transformed_cell` argument and any exception that happen during thetransform in `preprocessing_exc_tuple` in IPython 7.17 and above.\n",
            "  and should_run_async(code)\n"
          ]
        },
        {
          "output_type": "display_data",
          "data": {
            "text/plain": [
              "<Figure size 640x480 with 1 Axes>"
            ],
            "image/png": "[encoded data removed]"
          },
          "metadata": {}
        }
      ]
    },
    {
      "cell_type": "code",
      "source": [
        "from sklearn.metrics import precision_recall_curve\n",
        "\n",
        "# Get precision-recall curve values\n",
        "precision, recall, _ = precision_recall_curve(Y_test, model.predict_proba(X_test)[:, 1])\n",
        "\n",
        "# Plot precision-recall curve\n",
        "plt.figure()\n",
        "plt.plot(recall, precision, color='darkorange', lw=2)\n",
        "plt.xlim([0.0, 1.0])\n",
        "plt.ylim([0.0, 1.05])\n",
        "plt.xlabel('Recall')\n",
        "plt.ylabel('Precision')\n",
        "plt.title('Precision-Recall Curve')\n",
        "plt.show()\n"
      ],
      "metadata": {
        "colab": {
          "base_uri": "https://localhost:8080/",
          "height": 527
        },
        "id": "rVDB82zbYIjj",
        "outputId": "2360b0ce-b7e6-4bd9-a349-e77e9f5728fe"
      },
      "execution_count": null,
      "outputs": [
        {
          "output_type": "stream",
          "name": "stderr",
          "text": [
            "/usr/local/lib/python3.10/dist-packages/ipykernel/ipkernel.py:283: DeprecationWarning: `should_run_async` will not call `transform_cell` automatically in the future. Please pass the result to `transformed_cell` argument and any exception that happen during thetransform in `preprocessing_exc_tuple` in IPython 7.17 and above.\n",
            "  and should_run_async(code)\n"
          ]
        },
        {
          "output_type": "display_data",
          "data": {
            "text/plain": [
              "<Figure size 640x480 with 1 Axes>"
            ],
            "image/png": "[encoded data removed]"
          },
          "metadata": {}
        }
      ]
    },
    {
      "cell_type": "code",
      "source": [
        "import numpy as np\n",
        "import matplotlib.pyplot as plt\n",
        "\n",
        "def sigmoid(x):\n",
        "    return 1 / (1 + np.exp(-x))\n",
        "\n",
        "x = np.linspace(-6, 6, 100)\n",
        "y = sigmoid(x)\n",
        "\n",
        "plt.figure()\n",
        "plt.plot(x, y, label='Sigmoid Curve')\n",
        "plt.xlabel('x')\n",
        "plt.ylabel('Sigmoid(x)')\n",
        "plt.title('Sigmoid Curve')\n",
        "plt.axvline(0, color='k', linestyle='--', lw=1)\n",
        "plt.axhline(0.5, color='r', linestyle='--', lw=1, label='Threshold (0.5)')\n",
        "plt.legend()\n",
        "plt.show()"
      ],
      "metadata": {
        "colab": {
          "base_uri": "https://localhost:8080/",
          "height": 527
        },
        "id": "7Hie9Ks1YImU",
        "outputId": "c96b11af-89a5-42d4-e452-0e2af5b20a54"
      },
      "execution_count": null,
      "outputs": [
        {
          "output_type": "stream",
          "name": "stderr",
          "text": [
            "/usr/local/lib/python3.10/dist-packages/ipykernel/ipkernel.py:283: DeprecationWarning: `should_run_async` will not call `transform_cell` automatically in the future. Please pass the result to `transformed_cell` argument and any exception that happen during thetransform in `preprocessing_exc_tuple` in IPython 7.17 and above.\n",
            "  and should_run_async(code)\n"
          ]
        },
        {
          "output_type": "display_data",
          "data": {
            "text/plain": [
              "<Figure size 640x480 with 1 Axes>"
            ],
            "image/png": "[encoded data removed]"
          },
          "metadata": {}
        }
      ]
    },
    {
      "cell_type": "code",
      "source": [
        "param_grid = {'C': [0.001, 0.01, 0.1, 1, 10]}  # Reduce the range of C values\n"
      ],
      "metadata": {
        "colab": {
          "base_uri": "https://localhost:8080/"
        },
        "id": "rmTLCyd6YIpl",
        "outputId": "e42277df-946d-4b60-8290-2d17ce2880b7"
      },
      "execution_count": null,
      "outputs": [
        {
          "output_type": "stream",
          "name": "stderr",
          "text": [
            "/usr/local/lib/python3.10/dist-packages/ipykernel/ipkernel.py:283: DeprecationWarning: `should_run_async` will not call `transform_cell` automatically in the future. Please pass the result to `transformed_cell` argument and any exception that happen during thetransform in `preprocessing_exc_tuple` in IPython 7.17 and above.\n",
            "  and should_run_async(code)\n"
          ]
        }
      ]
    },
    {
      "cell_type": "code",
      "source": [
        "import random\n",
        "\n",
        "random.seed(42)  # Set a seed for reproducibility\n",
        "sample_indices = random.sample(range(len(X_train)), int(0.2 * len(X_train)))\n",
        "X_train_sampled = X_train.iloc[sample_indices]\n",
        "Y_train_sampled = Y_train.iloc[sample_indices]"
      ],
      "metadata": {
        "colab": {
          "base_uri": "https://localhost:8080/"
        },
        "id": "PXRlY5u6YIr6",
        "outputId": "e8c982d3-29ed-425d-95b7-86177ddc1bad"
      },
      "execution_count": null,
      "outputs": [
        {
          "output_type": "stream",
          "name": "stderr",
          "text": [
            "/usr/local/lib/python3.10/dist-packages/ipykernel/ipkernel.py:283: DeprecationWarning: `should_run_async` will not call `transform_cell` automatically in the future. Please pass the result to `transformed_cell` argument and any exception that happen during thetransform in `preprocessing_exc_tuple` in IPython 7.17 and above.\n",
            "  and should_run_async(code)\n"
          ]
        }
      ]
    },
    {
      "cell_type": "code",
      "source": [
        "grid_search = GridSearchCV(model, param_grid, cv=5, scoring='accuracy', n_jobs=-1)\n"
      ],
      "metadata": {
        "colab": {
          "base_uri": "https://localhost:8080/",
          "height": 247
        },
        "id": "fM300HVOYIvj",
        "outputId": "805bb925-09e3-4d72-fe05-8ef4f714b49a"
      },
      "execution_count": null,
      "outputs": [
        {
          "output_type": "stream",
          "name": "stderr",
          "text": [
            "/usr/local/lib/python3.10/dist-packages/ipykernel/ipkernel.py:283: DeprecationWarning: `should_run_async` will not call `transform_cell` automatically in the future. Please pass the result to `transformed_cell` argument and any exception that happen during thetransform in `preprocessing_exc_tuple` in IPython 7.17 and above.\n",
            "  and should_run_async(code)\n"
          ]
        },
        {
          "output_type": "error",
          "ename": "NameError",
          "evalue": "ignored",
          "traceback": [
            "\u001b[0;31m---------------------------------------------------------------------------\u001b[0m",
            "\u001b[0;31mNameError\u001b[0m                                 Traceback (most recent call last)",
            "\u001b[0;32m<ipython-input-21-4be7cc50a29b>\u001b[0m in \u001b[0;36m<cell line: 1>\u001b[0;34m()\u001b[0m\n\u001b[0;32m----> 1\u001b[0;31m \u001b[0mgrid_search\u001b[0m \u001b[0;34m=\u001b[0m \u001b[0mGridSearchCV\u001b[0m\u001b[0;34m(\u001b[0m\u001b[0mmodel\u001b[0m\u001b[0;34m,\u001b[0m \u001b[0mparam_grid\u001b[0m\u001b[0;34m,\u001b[0m \u001b[0mcv\u001b[0m\u001b[0;34m=\u001b[0m\u001b[0;36m5\u001b[0m\u001b[0;34m,\u001b[0m \u001b[0mscoring\u001b[0m\u001b[0;34m=\u001b[0m\u001b[0;34m'accuracy'\u001b[0m\u001b[0;34m,\u001b[0m \u001b[0mn_jobs\u001b[0m\u001b[0;34m=\u001b[0m\u001b[0;34m-\u001b[0m\u001b[0;36m1\u001b[0m\u001b[0;34m)\u001b[0m\u001b[0;34m\u001b[0m\u001b[0;34m\u001b[0m\u001b[0m\n\u001b[0m",
            "\u001b[0;31mNameError\u001b[0m: name 'GridSearchCV' is not defined"
          ]
        }
      ]
    },
    {
      "cell_type": "code",
      "source": [
        "from sklearn.linear_model import LogisticRegression\n",
        "\n",
        "model = LogisticRegression()\n",
        "\n",
        "model.fit(X_train, Y_train)\n",
        "\n",
        "high_risk_customers = model.predict(X_test)\n",
        "\n",
        "for customer_id, churn_probability in zip(X_test.index, high_risk_customers):\n",
        "    if churn_probability > 0.5:\n",
        "        print(f\"Send personalized offer to customer {customer_id} to retain them.\")\n",
        "\n"
      ],
      "metadata": {
        "colab": {
          "base_uri": "https://localhost:8080/"
        },
        "id": "NeTrSyxAYn4T",
        "outputId": "6b8ed8cc-450a-450e-d5f3-abda2e3103ab"
      },
      "execution_count": null,
      "outputs": [
        {
          "output_type": "stream",
          "name": "stderr",
          "text": [
            "/usr/local/lib/python3.10/dist-packages/ipykernel/ipkernel.py:283: DeprecationWarning: `should_run_async` will not call `transform_cell` automatically in the future. Please pass the result to `transformed_cell` argument and any exception that happen during thetransform in `preprocessing_exc_tuple` in IPython 7.17 and above.\n",
            "  and should_run_async(code)\n"
          ]
        },
        {
          "output_type": "stream",
          "name": "stdout",
          "text": [
            "Send personalized offer to customer 3424 to retain them.\n",
            "Send personalized offer to customer 333 to retain them.\n",
            "Send personalized offer to customer 4369 to retain them.\n",
            "Send personalized offer to customer 935 to retain them.\n",
            "Send personalized offer to customer 4154 to retain them.\n",
            "Send personalized offer to customer 4967 to retain them.\n",
            "Send personalized offer to customer 5479 to retain them.\n",
            "Send personalized offer to customer 1813 to retain them.\n",
            "Send personalized offer to customer 3346 to retain them.\n",
            "Send personalized offer to customer 327 to retain them.\n",
            "Send personalized offer to customer 5037 to retain them.\n",
            "Send personalized offer to customer 4433 to retain them.\n",
            "Send personalized offer to customer 1948 to retain them.\n",
            "Send personalized offer to customer 5653 to retain them.\n",
            "Send personalized offer to customer 4138 to retain them.\n",
            "Send personalized offer to customer 4355 to retain them.\n",
            "Send personalized offer to customer 4000 to retain them.\n",
            "Send personalized offer to customer 3943 to retain them.\n",
            "Send personalized offer to customer 2604 to retain them.\n",
            "Send personalized offer to customer 4223 to retain them.\n",
            "Send personalized offer to customer 3960 to retain them.\n",
            "Send personalized offer to customer 6126 to retain them.\n",
            "Send personalized offer to customer 4480 to retain them.\n",
            "Send personalized offer to customer 5481 to retain them.\n",
            "Send personalized offer to customer 6151 to retain them.\n",
            "Send personalized offer to customer 162 to retain them.\n",
            "Send personalized offer to customer 2173 to retain them.\n",
            "Send personalized offer to customer 6473 to retain them.\n",
            "Send personalized offer to customer 2477 to retain them.\n",
            "Send personalized offer to customer 1192 to retain them.\n",
            "Send personalized offer to customer 2721 to retain them.\n",
            "Send personalized offer to customer 4393 to retain them.\n",
            "Send personalized offer to customer 650 to retain them.\n",
            "Send personalized offer to customer 3987 to retain them.\n",
            "Send personalized offer to customer 2084 to retain them.\n",
            "Send personalized offer to customer 130 to retain them.\n",
            "Send personalized offer to customer 3830 to retain them.\n",
            "Send personalized offer to customer 2655 to retain them.\n",
            "Send personalized offer to customer 3671 to retain them.\n",
            "Send personalized offer to customer 2921 to retain them.\n",
            "Send personalized offer to customer 484 to retain them.\n",
            "Send personalized offer to customer 1238 to retain them.\n",
            "Send personalized offer to customer 2367 to retain them.\n",
            "Send personalized offer to customer 6848 to retain them.\n",
            "Send personalized offer to customer 6284 to retain them.\n",
            "Send personalized offer to customer 1516 to retain them.\n",
            "Send personalized offer to customer 2387 to retain them.\n",
            "Send personalized offer to customer 5159 to retain them.\n",
            "Send personalized offer to customer 4081 to retain them.\n",
            "Send personalized offer to customer 4494 to retain them.\n",
            "Send personalized offer to customer 2438 to retain them.\n",
            "Send personalized offer to customer 2133 to retain them.\n",
            "Send personalized offer to customer 6428 to retain them.\n",
            "Send personalized offer to customer 5154 to retain them.\n",
            "Send personalized offer to customer 6626 to retain them.\n",
            "Send personalized offer to customer 6174 to retain them.\n",
            "Send personalized offer to customer 2422 to retain them.\n",
            "Send personalized offer to customer 834 to retain them.\n",
            "Send personalized offer to customer 1148 to retain them.\n",
            "Send personalized offer to customer 4459 to retain them.\n",
            "Send personalized offer to customer 3822 to retain them.\n",
            "Send personalized offer to customer 3745 to retain them.\n",
            "Send personalized offer to customer 2873 to retain them.\n",
            "Send personalized offer to customer 3328 to retain them.\n",
            "Send personalized offer to customer 1359 to retain them.\n",
            "Send personalized offer to customer 1006 to retain them.\n",
            "Send personalized offer to customer 2948 to retain them.\n",
            "Send personalized offer to customer 4396 to retain them.\n",
            "Send personalized offer to customer 5536 to retain them.\n",
            "Send personalized offer to customer 5557 to retain them.\n",
            "Send personalized offer to customer 3305 to retain them.\n",
            "Send personalized offer to customer 2990 to retain them.\n",
            "Send personalized offer to customer 5493 to retain them.\n",
            "Send personalized offer to customer 5437 to retain them.\n",
            "Send personalized offer to customer 6998 to retain them.\n",
            "Send personalized offer to customer 5718 to retain them.\n",
            "Send personalized offer to customer 3821 to retain them.\n",
            "Send personalized offer to customer 1473 to retain them.\n",
            "Send personalized offer to customer 5374 to retain them.\n",
            "Send personalized offer to customer 4560 to retain them.\n",
            "Send personalized offer to customer 4931 to retain them.\n",
            "Send personalized offer to customer 5036 to retain them.\n",
            "Send personalized offer to customer 5187 to retain them.\n",
            "Send personalized offer to customer 4045 to retain them.\n",
            "Send personalized offer to customer 5072 to retain them.\n",
            "Send personalized offer to customer 1071 to retain them.\n",
            "Send personalized offer to customer 4759 to retain them.\n",
            "Send personalized offer to customer 214 to retain them.\n",
            "Send personalized offer to customer 5857 to retain them.\n",
            "Send personalized offer to customer 3956 to retain them.\n",
            "Send personalized offer to customer 6885 to retain them.\n",
            "Send personalized offer to customer 4585 to retain them.\n",
            "Send personalized offer to customer 933 to retain them.\n",
            "Send personalized offer to customer 1676 to retain them.\n",
            "Send personalized offer to customer 4646 to retain them.\n",
            "Send personalized offer to customer 5432 to retain them.\n",
            "Send personalized offer to customer 2105 to retain them.\n",
            "Send personalized offer to customer 1125 to retain them.\n",
            "Send personalized offer to customer 3587 to retain them.\n",
            "Send personalized offer to customer 524 to retain them.\n",
            "Send personalized offer to customer 4515 to retain them.\n",
            "Send personalized offer to customer 2528 to retain them.\n",
            "Send personalized offer to customer 4948 to retain them.\n",
            "Send personalized offer to customer 6715 to retain them.\n",
            "Send personalized offer to customer 3551 to retain them.\n",
            "Send personalized offer to customer 3380 to retain them.\n",
            "Send personalized offer to customer 1783 to retain them.\n",
            "Send personalized offer to customer 3138 to retain them.\n",
            "Send personalized offer to customer 672 to retain them.\n",
            "Send personalized offer to customer 1456 to retain them.\n",
            "Send personalized offer to customer 3435 to retain them.\n",
            "Send personalized offer to customer 3562 to retain them.\n",
            "Send personalized offer to customer 6504 to retain them.\n",
            "Send personalized offer to customer 680 to retain them.\n",
            "Send personalized offer to customer 6798 to retain them.\n",
            "Send personalized offer to customer 1215 to retain them.\n",
            "Send personalized offer to customer 3555 to retain them.\n",
            "Send personalized offer to customer 1972 to retain them.\n",
            "Send personalized offer to customer 5943 to retain them.\n",
            "Send personalized offer to customer 3159 to retain them.\n",
            "Send personalized offer to customer 1790 to retain them.\n",
            "Send personalized offer to customer 6223 to retain them.\n",
            "Send personalized offer to customer 1007 to retain them.\n",
            "Send personalized offer to customer 5100 to retain them.\n",
            "Send personalized offer to customer 4867 to retain them.\n",
            "Send personalized offer to customer 4648 to retain them.\n",
            "Send personalized offer to customer 6462 to retain them.\n",
            "Send personalized offer to customer 302 to retain them.\n",
            "Send personalized offer to customer 1538 to retain them.\n",
            "Send personalized offer to customer 6043 to retain them.\n",
            "Send personalized offer to customer 3756 to retain them.\n",
            "Send personalized offer to customer 2582 to retain them.\n",
            "Send personalized offer to customer 80 to retain them.\n",
            "Send personalized offer to customer 5522 to retain them.\n",
            "Send personalized offer to customer 5657 to retain them.\n",
            "Send personalized offer to customer 2577 to retain them.\n",
            "Send personalized offer to customer 3838 to retain them.\n",
            "Send personalized offer to customer 677 to retain them.\n",
            "Send personalized offer to customer 1995 to retain them.\n",
            "Send personalized offer to customer 377 to retain them.\n",
            "Send personalized offer to customer 1772 to retain them.\n",
            "Send personalized offer to customer 1401 to retain them.\n",
            "Send personalized offer to customer 1383 to retain them.\n",
            "Send personalized offer to customer 5211 to retain them.\n",
            "Send personalized offer to customer 4214 to retain them.\n",
            "Send personalized offer to customer 6088 to retain them.\n",
            "Send personalized offer to customer 1149 to retain them.\n",
            "Send personalized offer to customer 4314 to retain them.\n",
            "Send personalized offer to customer 7029 to retain them.\n",
            "Send personalized offer to customer 1122 to retain them.\n",
            "Send personalized offer to customer 1795 to retain them.\n",
            "Send personalized offer to customer 383 to retain them.\n",
            "Send personalized offer to customer 5257 to retain them.\n",
            "Send personalized offer to customer 3746 to retain them.\n",
            "Send personalized offer to customer 207 to retain them.\n",
            "Send personalized offer to customer 6177 to retain them.\n",
            "Send personalized offer to customer 2589 to retain them.\n",
            "Send personalized offer to customer 4930 to retain them.\n",
            "Send personalized offer to customer 2741 to retain them.\n",
            "Send personalized offer to customer 4448 to retain them.\n",
            "Send personalized offer to customer 6434 to retain them.\n",
            "Send personalized offer to customer 777 to retain them.\n",
            "Send personalized offer to customer 678 to retain them.\n",
            "Send personalized offer to customer 6365 to retain them.\n",
            "Send personalized offer to customer 722 to retain them.\n",
            "Send personalized offer to customer 5480 to retain them.\n",
            "Send personalized offer to customer 4954 to retain them.\n",
            "Send personalized offer to customer 5395 to retain them.\n",
            "Send personalized offer to customer 270 to retain them.\n",
            "Send personalized offer to customer 6536 to retain them.\n",
            "Send personalized offer to customer 6858 to retain them.\n",
            "Send personalized offer to customer 1356 to retain them.\n",
            "Send personalized offer to customer 4179 to retain them.\n",
            "Send personalized offer to customer 4800 to retain them.\n",
            "Send personalized offer to customer 1266 to retain them.\n",
            "Send personalized offer to customer 5839 to retain them.\n",
            "Send personalized offer to customer 3919 to retain them.\n",
            "Send personalized offer to customer 948 to retain them.\n",
            "Send personalized offer to customer 5933 to retain them.\n",
            "Send personalized offer to customer 3595 to retain them.\n",
            "Send personalized offer to customer 6084 to retain them.\n",
            "Send personalized offer to customer 3864 to retain them.\n",
            "Send personalized offer to customer 3633 to retain them.\n",
            "Send personalized offer to customer 6179 to retain them.\n",
            "Send personalized offer to customer 3030 to retain them.\n",
            "Send personalized offer to customer 1251 to retain them.\n",
            "Send personalized offer to customer 5662 to retain them.\n",
            "Send personalized offer to customer 5782 to retain them.\n",
            "Send personalized offer to customer 3067 to retain them.\n",
            "Send personalized offer to customer 122 to retain them.\n",
            "Send personalized offer to customer 6506 to retain them.\n",
            "Send personalized offer to customer 3588 to retain them.\n",
            "Send personalized offer to customer 4237 to retain them.\n",
            "Send personalized offer to customer 3932 to retain them.\n",
            "Send personalized offer to customer 4173 to retain them.\n",
            "Send personalized offer to customer 3272 to retain them.\n",
            "Send personalized offer to customer 5418 to retain them.\n",
            "Send personalized offer to customer 5854 to retain them.\n",
            "Send personalized offer to customer 3928 to retain them.\n",
            "Send personalized offer to customer 5233 to retain them.\n",
            "Send personalized offer to customer 5636 to retain them.\n",
            "Send personalized offer to customer 1206 to retain them.\n",
            "Send personalized offer to customer 2301 to retain them.\n",
            "Send personalized offer to customer 3043 to retain them.\n",
            "Send personalized offer to customer 4217 to retain them.\n",
            "Send personalized offer to customer 620 to retain them.\n",
            "Send personalized offer to customer 6845 to retain them.\n",
            "Send personalized offer to customer 2000 to retain them.\n",
            "Send personalized offer to customer 1670 to retain them.\n",
            "Send personalized offer to customer 4359 to retain them.\n",
            "Send personalized offer to customer 1868 to retain them.\n",
            "Send personalized offer to customer 6066 to retain them.\n",
            "Send personalized offer to customer 178 to retain them.\n",
            "Send personalized offer to customer 6236 to retain them.\n",
            "Send personalized offer to customer 1412 to retain them.\n",
            "Send personalized offer to customer 3209 to retain them.\n",
            "Send personalized offer to customer 6741 to retain them.\n",
            "Send personalized offer to customer 5498 to retain them.\n",
            "Send personalized offer to customer 2323 to retain them.\n",
            "Send personalized offer to customer 2530 to retain them.\n",
            "Send personalized offer to customer 4851 to retain them.\n",
            "Send personalized offer to customer 937 to retain them.\n",
            "Send personalized offer to customer 2784 to retain them.\n",
            "Send personalized offer to customer 478 to retain them.\n",
            "Send personalized offer to customer 5763 to retain them.\n",
            "Send personalized offer to customer 1694 to retain them.\n",
            "Send personalized offer to customer 655 to retain them.\n",
            "Send personalized offer to customer 4228 to retain them.\n",
            "Send personalized offer to customer 6046 to retain them.\n",
            "Send personalized offer to customer 5815 to retain them.\n",
            "Send personalized offer to customer 4062 to retain them.\n",
            "Send personalized offer to customer 5846 to retain them.\n",
            "Send personalized offer to customer 428 to retain them.\n",
            "Send personalized offer to customer 5644 to retain them.\n",
            "Send personalized offer to customer 1346 to retain them.\n",
            "Send personalized offer to customer 4326 to retain them.\n",
            "Send personalized offer to customer 3224 to retain them.\n",
            "Send personalized offer to customer 950 to retain them.\n",
            "Send personalized offer to customer 6770 to retain them.\n",
            "Send personalized offer to customer 4442 to retain them.\n",
            "Send personalized offer to customer 3784 to retain them.\n",
            "Send personalized offer to customer 2789 to retain them.\n",
            "Send personalized offer to customer 2018 to retain them.\n",
            "Send personalized offer to customer 5984 to retain them.\n",
            "Send personalized offer to customer 4517 to retain them.\n",
            "Send personalized offer to customer 166 to retain them.\n",
            "Send personalized offer to customer 419 to retain them.\n",
            "Send personalized offer to customer 2265 to retain them.\n",
            "Send personalized offer to customer 3807 to retain them.\n",
            "Send personalized offer to customer 2319 to retain them.\n",
            "Send personalized offer to customer 455 to retain them.\n",
            "Send personalized offer to customer 6152 to retain them.\n",
            "Send personalized offer to customer 5129 to retain them.\n",
            "Send personalized offer to customer 6557 to retain them.\n",
            "Send personalized offer to customer 0 to retain them.\n",
            "Send personalized offer to customer 4640 to retain them.\n",
            "Send personalized offer to customer 2077 to retain them.\n",
            "Send personalized offer to customer 642 to retain them.\n",
            "Send personalized offer to customer 3737 to retain them.\n",
            "Send personalized offer to customer 2463 to retain them.\n",
            "Send personalized offer to customer 1236 to retain them.\n",
            "Send personalized offer to customer 6024 to retain them.\n",
            "Send personalized offer to customer 2518 to retain them.\n",
            "Send personalized offer to customer 371 to retain them.\n",
            "Send personalized offer to customer 4947 to retain them.\n",
            "Send personalized offer to customer 4232 to retain them.\n",
            "Send personalized offer to customer 4638 to retain them.\n",
            "Send personalized offer to customer 273 to retain them.\n",
            "Send personalized offer to customer 2097 to retain them.\n",
            "Send personalized offer to customer 4169 to retain them.\n",
            "Send personalized offer to customer 3962 to retain them.\n",
            "Send personalized offer to customer 4405 to retain them.\n",
            "Send personalized offer to customer 3842 to retain them.\n",
            "Send personalized offer to customer 1411 to retain them.\n",
            "Send personalized offer to customer 893 to retain them.\n",
            "Send personalized offer to customer 864 to retain them.\n",
            "Send personalized offer to customer 5090 to retain them.\n",
            "Send personalized offer to customer 6322 to retain them.\n",
            "Send personalized offer to customer 6044 to retain them.\n",
            "Send personalized offer to customer 2703 to retain them.\n",
            "Send personalized offer to customer 3592 to retain them.\n"
          ]
        }
      ]
    },
    {
      "cell_type": "code",
      "source": [],
      "metadata": {
        "id": "bSo8hImqYn7I"
      },
      "execution_count": null,
      "outputs": []
    },
    {
      "cell_type": "code",
      "source": [],
      "metadata": {
        "id": "JPDHmB2rYn-j"
      },
      "execution_count": null,
      "outputs": []
    }
  ]
}