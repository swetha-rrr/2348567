{
  "nbformat": 4,
  "nbformat_minor": 0,
  "metadata": {
    "colab": {
      "provenance": [],
      "gpuType": "T4",
      "authorship_tag": "ABX9TyM864pSMpW+nLbayJ0jPVOs",
      "include_colab_link": true
    },
    "kernelspec": {
      "name": "python3",
      "display_name": "Python 3"
    },
    "language_info": {
      "name": "python"
    },
    "accelerator": "GPU"
  },
  "cells": [
    {
      "cell_type": "markdown",
      "metadata": {
        "id": "view-in-github",
        "colab_type": "text"
      },
      "source": [
        "<a href=\"https://colab.research.google.com/github/swetha-rrr/2348567/blob/main/lab9image.ipynb\" target=\"_parent\"><img src=\"https://colab.research.google.com/assets/colab-badge.svg\" alt=\"Open In Colab\"/></a>"
      ]
    },
    {
      "cell_type": "code",
      "execution_count": null,
      "metadata": {
        "id": "3mnjbhLSEH-d"
      },
      "outputs": [],
      "source": [
        "import numpy as np\n",
        "import pandas as pd\n",
        "import matplotlib.pyplot as plt\n",
        "from sklearn.model_selection import train_test_split\n",
        "from sklearn.metrics import accuracy_score"
      ]
    },
    {
      "cell_type": "code",
      "source": [],
      "metadata": {
        "id": "4qjKLHrqEOKX"
      },
      "execution_count": null,
      "outputs": []
    },
    {
      "cell_type": "code",
      "source": [
        "from google.colab import drive\n",
        "drive.mount('/content/drive')"
      ],
      "metadata": {
        "id": "-9a-yeGkeKeE"
      },
      "execution_count": null,
      "outputs": []
    },
    {
      "cell_type": "code",
      "source": [
        "import os\n",
        "import cv2\n",
        "import random\n",
        "X = []\n",
        "Y = []\n",
        "Ages = {'no_tumor': [], 'pituitary_tumor': []}\n",
        "min_age = 18\n",
        "max_age = 90\n",
        "classes = {'pituitary_tumor': 0, 'no_tumor': 1}\n",
        "for cls in classes:\n",
        "    pth = os.path.join(path, cls)\n",
        "    for j in os.listdir(pth):\n",
        "        img = cv2.imread(os.path.join(pth, j), 0)\n",
        "        img = cv2.resize(img, (200, 200))\n",
        "        X.append(img)\n",
        "        Y.append(classes[cls])\n",
        "        age = random.randint(min_age, max_age)\n",
        "        Ages[cls].append(age)"
      ],
      "metadata": {
        "id": "mW2vOYxJEOMW"
      },
      "execution_count": null,
      "outputs": []
    },
    {
      "cell_type": "code",
      "source": [
        "X = np.array(X)\n",
        "Y = np.array(Y)\n",
        "\n",
        "plt.figure(figsize=(8, 6))\n",
        "plt.hist(Y, bins=[0, 1, 2], rwidth=0.8, align='left')\n",
        "plt.xticks([0, 1], ['no_tumor', 'pituitary_tumor'])\n",
        "plt.xlabel('Class')\n",
        "plt.ylabel('Number of Samples')\n",
        "plt.title('Class Distribution')\n",
        "plt.show()"
      ],
      "metadata": {
        "id": "G-uJQvCwEOOR"
      },
      "execution_count": null,
      "outputs": []
    },
    {
      "cell_type": "code",
      "source": [
        "Ages['no_tumor'] = np.array(Ages['no_tumor'])\n",
        "Ages['pituitary_tumor'] = np.array(Ages['pituitary_tumor'])\n",
        "\n",
        "fig, (ax1, ax2) = plt.subplots(1, 2, figsize=(12, 6))\n",
        "ax1.hist(Ages['no_tumor'], bins=np.arange(min_age, max_age+1, 5), rwidth=0.8, color='blue', alpha=0.7, label='no_tumor')\n",
        "ax1.set_xlabel('Age')\n",
        "ax1.set_ylabel('Number of Patients')\n",
        "ax1.set_title('Patient Age Distribution for \"no_tumor\" Class')\n",
        "ax1.legend()\n",
        "\n",
        "# patient age distribution for\n",
        "ax2.hist(Ages['pituitary_tumor'], bins=np.arange(min_age, max_age+1, 5), rwidth=0.8, color='green', alpha=0.7, label='pituitary_tumor')\n",
        "ax2.set_xlabel('Age')\n",
        "ax2.set_ylabel('Number of Patients')\n",
        "ax2.set_title('Patient Age Distribution for \"pituitary_tumor\" Class')\n",
        "ax2.legend()\n",
        "\n",
        "plt.tight_layout()\n",
        "plt.show()"
      ],
      "metadata": {
        "id": "-_4IS8iGCIr_"
      },
      "execution_count": null,
      "outputs": []
    },
    {
      "cell_type": "code",
      "source": [
        "X_updated = X.reshape(len(X), -1)\n",
        "X_updated.shape"
      ],
      "metadata": {
        "id": "Ar_dc7muCIpi"
      },
      "execution_count": null,
      "outputs": []
    },
    {
      "cell_type": "code",
      "source": [
        "xtrain, xtest, ytrain, ytest = train_test_split(X_updated, Y, random_state=10,\n",
        "                                               test_size=.20)"
      ],
      "metadata": {
        "id": "nGOtmTKXCIkn"
      },
      "execution_count": null,
      "outputs": []
    },
    {
      "cell_type": "code",
      "source": [
        "from keras.preprocessing.image import ImageDataGenerator\n",
        "classes = {'no_tumor': 0, 'pituitary_tumor': 1}\n",
        "X = []\n",
        "Y = []\n",
        "\n",
        "for cls in classes:\n",
        "    pth = os.path.join(path, cls)\n",
        "    for j in os.listdir(pth):\n",
        "        img = cv2.imread(os.path.join(pth, j), 0)\n",
        "        img = cv2.resize(img, (200, 200))\n",
        "        X.append(img)\n",
        "        Y.append(classes[cls])\n",
        "\n",
        "X = np.array(X)\n",
        "Y = np.array(Y)\n",
        "X = X.reshape(X.shape + (1,))\n",
        "\n",
        "datagen = ImageDataGenerator(\n",
        "    width_shift_range=0.1,\n",
        "    height_shift_range=0.1,\n",
        "    horizontal_flip=True,\n",
        "    vertical_flip=False,\n",
        "    fill_mode='nearest'\n",
        ")\n",
        "\n",
        "plt.figure(figsize=(12, 6))\n",
        "for i in range(9):\n",
        "    augmented_image = datagen.random_transform(X[0])\n",
        "    plt.subplot(3, 3, i + 1)\n",
        "    plt.imshow(augmented_image[:, :, 0], cmap='gray')\n",
        "    plt.axis('off')\n",
        "plt.tight_layout()\n",
        "plt.show()"
      ],
      "metadata": {
        "id": "RQTRWU3JEOQc"
      },
      "execution_count": null,
      "outputs": []
    },
    {
      "cell_type": "code",
      "source": [],
      "metadata": {
        "id": "WUURkZ1nEOSt"
      },
      "execution_count": null,
      "outputs": []
    },
    {
      "cell_type": "code",
      "source": [
        "from sklearn import datasets, svm, metrics\n",
        "from sklearn.model_selection import train_test_split\n",
        "from sklearn.decomposition import PCA\n",
        "\n",
        "X_flat = X.reshape(X.shape[0], -1)\n",
        "\n",
        "n_components = 100\n",
        "pca = PCA(n_components=n_components, whiten=True).fit(X_flat)\n",
        "X_pca = pca.transform(X_flat)\n",
        "\n",
        "X_train, X_test, Y_train, Y_test = train_test_split(X_pca, Y, test_size=0.2, random_state=42)\n",
        "\n",
        "\n",
        "classifier = svm.SVC(kernel='linear', C=0.1)\n",
        "classifier.fit(X_train, Y_train)\n",
        "\n",
        "\n",
        "Y_pred = classifier.predict(X_test)\n",
        "\n",
        "print(\"Classification Report:\\n\", metrics.classification_report(Y_test, Y_pred))\n",
        "\n",
        "\n",
        "plt.figure(figsize=(12, 6))\n",
        "for i in range(9):\n",
        "    plt.subplot(3, 3, i + 1)\n",
        "    plt.imshow(pca.components_[i].reshape(200, 200), cmap='gray')\n",
        "    plt.axis('off')\n",
        "plt.tight_layout()\n",
        "plt.show()"
      ],
      "metadata": {
        "id": "pk5UfxvjEOU3"
      },
      "execution_count": null,
      "outputs": []
    },
    {
      "cell_type": "code",
      "source": [
        "plt.figure(figsize=(8, 6))\n",
        "plt.scatter(X_pca[:, 0], X_pca[:, 1], c=Y, cmap=plt.cm.Paired)\n",
        "plt.scatter(classifier.support_vectors_[:, 0], classifier.support_vectors_[:, 1], s=100,\n",
        "            facecolors='none', edgecolors='k', label='Support Vectors')\n",
        "plt.title(\"SVM Decision Boundary with Support Vectors\")\n",
        "plt.xlabel(\"Principal Component 1\")\n",
        "plt.ylabel(\"Principal Component 2\")\n",
        "plt.legend()\n",
        "plt.show()"
      ],
      "metadata": {
        "id": "hOJny2VMEOXT"
      },
      "execution_count": null,
      "outputs": []
    },
    {
      "cell_type": "code",
      "source": [
        "from sklearn.metrics import accuracy_score, precision_score, recall_score, f1_score, roc_auc_score, roc_curve, auc, confusion_matrix\n",
        "accuracy = accuracy_score(Y_test, Y_pred)\n",
        "precision = precision_score(Y_test, Y_pred)\n",
        "recall = recall_score(Y_test, Y_pred)\n",
        "f1 = f1_score(Y_test, Y_pred)\n",
        "roc_auc = roc_auc_score(Y_test, Y_pred)\n",
        "\n",
        "print(\"Accuracy:\", accuracy)\n",
        "print(\"Precision:\", precision)\n",
        "print(\"Recall:\", recall)\n",
        "print(\"F1 Score:\", f1)\n",
        "print(\"ROC AUC Score:\", roc_auc)"
      ],
      "metadata": {
        "id": "NFx5qh34EOZl"
      },
      "execution_count": null,
      "outputs": []
    },
    {
      "cell_type": "code",
      "source": [
        "confusion = confusion_matrix(Y_test, Y_pred)\n",
        "plt.figure(figsize=(8, 6))\n",
        "plt.imshow(confusion, cmap=plt.cm.Blues)\n",
        "plt.title(\"Confusion Matrix\")\n",
        "plt.colorbar()\n",
        "plt.xticks([0, 1], classes.keys())\n",
        "plt.yticks([0, 1], classes.keys())\n",
        "plt.xlabel(\"Predicted\")\n",
        "plt.ylabel(\"True\")\n",
        "plt.show()"
      ],
      "metadata": {
        "id": "xugr6DngEObp"
      },
      "execution_count": null,
      "outputs": []
    },
    {
      "cell_type": "code",
      "source": [
        "fpr, tpr, thresholds = roc_curve(Y_test, Y_pred)\n",
        "roc_auc = auc(fpr, tpr)\n",
        "\n",
        "plt.figure(figsize=(8, 6))\n",
        "plt.plot(fpr, tpr, color='darkorange', lw=2, label='ROC curve (area = %0.2f)' % roc_auc)\n",
        "plt.plot([0, 1], [0, 1], color='navy', lw=2, linestyle='--')\n",
        "plt.xlim([0.0, 1.0])\n",
        "plt.ylim([0.0, 1.05])\n",
        "plt.xlabel('False Positive Rate')\n",
        "plt.ylabel('True Positive Rate')\n",
        "plt.title('Receiver Operating Characteristic (ROC) Curve')\n",
        "plt.legend(loc=\"lower right\")\n",
        "plt.show()"
      ],
      "metadata": {
        "id": "MqqUPLtkEOdE"
      },
      "execution_count": null,
      "outputs": []
    },
    {
      "cell_type": "code",
      "source": [
        "from sklearn.model_selection import GridSearchCV\n",
        "param_grid = {\n",
        "    'C': [0.1, 1, 10],\n",
        "    'kernel': ['linear', 'poly', 'rbf'],\n",
        "}\n",
        "grid_search = GridSearchCV(classifier, param_grid, cv=5, scoring='accuracy')\n",
        "grid_search.fit(X_train, Y_train)\n",
        "\n",
        "\n",
        "best_params = grid_search.best_params_\n",
        "\n",
        "# Training the SVM model\n",
        "best_svm = svm.SVC(**best_params)\n",
        "best_svm.fit(X_train, Y_train)\n",
        "\n",
        "\n",
        "Y_pred = best_svm.predict(X_test)\n",
        "\n",
        "\n",
        "accuracy = metrics.accuracy_score(Y_test, Y_pred)\n",
        "precision = metrics.precision_score(Y_test, Y_pred)\n",
        "recall = metrics.recall_score(Y_test, Y_pred)\n",
        "f1 = metrics.f1_score(Y_test, Y_pred)\n",
        "\n",
        "print(\"Best Hyperparameters:\", best_params)\n",
        "print(\"Accuracy:\", accuracy)\n",
        "print(\"Precision:\", precision)\n",
        "print(\"Recall:\", recall)\n",
        "print(\"F1 Score:\", f1)"
      ],
      "metadata": {
        "id": "foG7slXoEOe_"
      },
      "execution_count": null,
      "outputs": []
    },
    {
      "cell_type": "code",
      "source": [
        "variance_explained = pca.explained_variance_ratio_\n",
        "plt.figure(figsize=(10, 5))\n",
        "plt.plot(np.cumsum(variance_explained))\n",
        "plt.xlabel('Number of Principal Components')\n",
        "plt.ylabel('Cumulative Variance Explained')\n",
        "plt.title('Cumulative Variance Explained by Principal Components')\n",
        "plt.grid(True)\n",
        "plt.show()"
      ],
      "metadata": {
        "id": "TRkjG6ddEOgz"
      },
      "execution_count": null,
      "outputs": []
    },
    {
      "cell_type": "code",
      "source": [
        "test_path= '/content/drive/MyDrive/ml/archive (1)/Testing'\n",
        "X_test = []\n",
        "Y_test = []\n",
        "tclasses = {'pituitary_tumor': 0, 'no_tumor': 1}\n",
        "for cls in tclasses:\n",
        "    tpth = os.path.join(test_path, cls)\n",
        "    for j in os.listdir(tpth):\n",
        "        img = cv2.imread(os.path.join(tpth, j), cv2.IMREAD_GRAYSCALE)\n",
        "        img = cv2.resize(img, (200, 200))\n",
        "        X_test.append(img)\n",
        "        Y_test.append(tclasses[cls])\n",
        "\n",
        "X_test = np.array(X_test)\n",
        "Y_test = np.array(Y_test)\n",
        "X_test_flat = X_test.reshape(X_test.shape[0], -1)\n",
        "X_test_pca = pca.transform(X_test_flat)\n",
        "Y_pred_test = best_svm.predict(X_test_pca)\n",
        "\n",
        "plt.figure(figsize=(12, 6))\n",
        "for i in range(9):\n",
        "    plt.subplot(3, 3, i + 1)\n",
        "    plt.imshow(X_test[i], cmap='gray')\n",
        "    plt.title(f'Predicted: {Y_pred_test[i]}\\nActual: {Y_test[i]}', fontsize=10)\n",
        "    plt.axis('off')\n",
        "plt.tight_layout()\n",
        "plt.show()"
      ],
      "metadata": {
        "id": "56Ix_J0sEOkN"
      },
      "execution_count": null,
      "outputs": []
    }
  ]
}