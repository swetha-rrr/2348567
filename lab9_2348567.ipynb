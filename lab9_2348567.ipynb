{
  "nbformat": 4,
  "nbformat_minor": 0,
  "metadata": {
    "colab": {
      "provenance": [],
      "authorship_tag": "ABX9TyNqIUIyyBWlQNY67Vm85POW",
      "include_colab_link": true
    },
    "kernelspec": {
      "name": "python3",
      "display_name": "Python 3"
    },
    "language_info": {
      "name": "python"
    }
  },
  "cells": [
    {
      "cell_type": "markdown",
      "metadata": {
        "id": "view-in-github",
        "colab_type": "text"
      },
      "source": [
        "<a href=\"https://colab.research.google.com/github/swetha-rrr/2348567/blob/main/lab9_2348567.ipynb\" target=\"_parent\"><img src=\"https://colab.research.google.com/assets/colab-badge.svg\" alt=\"Open In Colab\"/></a>"
      ]
    },
    {
      "cell_type": "code",
      "execution_count": 3,
      "metadata": {
        "colab": {
          "base_uri": "https://localhost:8080/"
        },
        "id": "7AcRhYgwb9Ux",
        "outputId": "46e72ca9-faf9-45bb-e6bb-5511df0580a5"
      },
      "outputs": [
        {
          "output_type": "stream",
          "name": "stdout",
          "text": [
            "Edit distance between 'madam' and 'maam': 1\n"
          ]
        }
      ],
      "source": [
        "def edit_distance(str1, str2):\n",
        "    m = len(str1)\n",
        "    n = len(str2)\n",
        "\n",
        "    dp = [[0] * (n + 1) for _ in range(m + 1)]\n",
        "    for i in range(m + 1):\n",
        "        for j in range(n + 1):\n",
        "            if i == 0:\n",
        "                dp[i][j] = j\n",
        "            elif j == 0:\n",
        "                dp[i][j] = i\n",
        "            elif str1[i - 1] == str2[j - 1]:\n",
        "                dp[i][j] = dp[i - 1][j - 1]\n",
        "            else:\n",
        "                dp[i][j] = 1 + min(dp[i][j - 1],        # Insert\n",
        "                                   dp[i - 1][j],        # Remove\n",
        "                                   dp[i - 1][j - 1])    # Replace\n",
        "\n",
        "    return dp[m][n]\n",
        "str1 = \"madam\"\n",
        "str2 = \"maam\"\n",
        "print(\"Edit distance between '{}' and '{}': {}\".format(str1, str2, edit_distance(str1, str2)))\n"
      ]
    },
    {
      "cell_type": "code",
      "source": [
        "import random\n",
        "\n",
        "# Sample story templates\n",
        "story_templates = [\n",
        "    \"Once upon a time, there was a {noun} named {name}. {name} lived in a {place}.\",\n",
        "    \"{name} was a {adjective} {noun} who dreamed of {verb} {noun_plural}.\",\n",
        "    \"In the land of {place}, there was a {adjective} {noun} named {name}. {name} loved to {verb} {noun_plural}.\"\n",
        "]\n",
        "\n",
        "# Sample poem templates\n",
        "poem_templates = [\n",
        "    \"Roses are {color}, violets are {color}, sugar is {color}, and so are you.\",\n",
        "    \"In the {time_of_day} {name} {verb} {noun}, while {name2} {verb} {noun_plural}.\",\n",
        "    \"Amidst the {adjective} {noun}, {name} {verb} {noun}, {name2} {verb} {noun_plural}.\"\n",
        "]\n",
        "\n",
        "def generate_story(keywords, template_type=\"story\"):\n",
        "    if template_type == \"story\":\n",
        "        templates = story_templates\n",
        "    elif template_type == \"poem\":\n",
        "        templates = poem_templates\n",
        "    else:\n",
        "        return \"Invalid template type. Choose either 'story' or 'poem'.\"\n",
        "\n",
        "    template = random.choice(templates)\n",
        "    story = template.format(**keywords)\n",
        "    return story\n",
        "\n",
        "keywords = {\n",
        "    \"name\": \"Alice\",\n",
        "    \"place\": \"forest\",\n",
        "    \"adjective\": \"brave\",\n",
        "    \"noun\": \"warrior\",\n",
        "    \"verb\": \"explore\",\n",
        "    \"noun_plural\": \"adventures\",\n",
        "    \"color\": \"red\",\n",
        "    \"time_of_day\": \"morning\",\n",
        "    \"name2\": \"Bob\"\n",
        "}\n",
        "\n",
        "story = generate_story(keywords, template_type=\"story\")\n",
        "print(\"Generated Story:\")\n",
        "print(story)\n",
        "\n",
        "# Generate a poem\n",
        "poem = generate_story(keywords, template_type=\"poem\")\n",
        "print(\"\\nGenerated Poem:\")\n",
        "print(poem)\n"
      ],
      "metadata": {
        "colab": {
          "base_uri": "https://localhost:8080/"
        },
        "id": "5fRuP764cB_z",
        "outputId": "f4f85732-b776-4460-fdfe-27585baa4d3d"
      },
      "execution_count": 4,
      "outputs": [
        {
          "output_type": "stream",
          "name": "stdout",
          "text": [
            "Generated Story:\n",
            "Once upon a time, there was a warrior named Alice. Alice lived in a forest.\n",
            "\n",
            "Generated Poem:\n",
            "Amidst the brave warrior, Alice explore warrior, Bob explore adventures.\n"
          ]
        }
      ]
    },
    {
      "cell_type": "code",
      "source": [],
      "metadata": {
        "id": "3oeP1fL1cCCE"
      },
      "execution_count": null,
      "outputs": []
    },
    {
      "cell_type": "code",
      "source": [],
      "metadata": {
        "id": "UwIF3G1scCEV"
      },
      "execution_count": null,
      "outputs": []
    },
    {
      "cell_type": "code",
      "source": [],
      "metadata": {
        "id": "YNDdgy57cCG6"
      },
      "execution_count": null,
      "outputs": []
    },
    {
      "cell_type": "code",
      "source": [],
      "metadata": {
        "id": "on8Gz2jBcCH-"
      },
      "execution_count": null,
      "outputs": []
    },
    {
      "cell_type": "code",
      "source": [],
      "metadata": {
        "id": "t9KAk38ucCKC"
      },
      "execution_count": null,
      "outputs": []
    },
    {
      "cell_type": "code",
      "source": [],
      "metadata": {
        "id": "bWaYRG23cCMP"
      },
      "execution_count": null,
      "outputs": []
    }
  ]
}